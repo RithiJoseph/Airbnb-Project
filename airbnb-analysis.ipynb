{
 "cells": [
  {
   "cell_type": "raw",
   "id": "763fac23-ca35-4f0e-84c1-3907a1129af2",
   "metadata": {},
   "source": [
    "Airbnb in NYC - Load the Dataset"
   ]
  },
  {
   "cell_type": "code",
   "execution_count": 3,
   "id": "1fdac3da-99f8-421f-a1a1-f66333dd7f52",
   "metadata": {},
   "outputs": [
    {
     "data": {
      "text/html": [
       "<div>\n",
       "<style scoped>\n",
       "    .dataframe tbody tr th:only-of-type {\n",
       "        vertical-align: middle;\n",
       "    }\n",
       "\n",
       "    .dataframe tbody tr th {\n",
       "        vertical-align: top;\n",
       "    }\n",
       "\n",
       "    .dataframe thead th {\n",
       "        text-align: right;\n",
       "    }\n",
       "</style>\n",
       "<table border=\"1\" class=\"dataframe\">\n",
       "  <thead>\n",
       "    <tr style=\"text-align: right;\">\n",
       "      <th></th>\n",
       "      <th>Host Id</th>\n",
       "      <th>Host Since</th>\n",
       "      <th>Name</th>\n",
       "      <th>Neighbourhood</th>\n",
       "      <th>Property Type</th>\n",
       "      <th>Review Scores Rating (bin)</th>\n",
       "      <th>Room Type</th>\n",
       "      <th>Zipcode</th>\n",
       "      <th>Beds</th>\n",
       "      <th>Number of Records</th>\n",
       "      <th>Number Of Reviews</th>\n",
       "      <th>Price</th>\n",
       "      <th>Review Scores Rating</th>\n",
       "    </tr>\n",
       "  </thead>\n",
       "  <tbody>\n",
       "    <tr>\n",
       "      <th>0</th>\n",
       "      <td>5162530</td>\n",
       "      <td>NaN</td>\n",
       "      <td>1 Bedroom in Prime Williamsburg</td>\n",
       "      <td>Brooklyn</td>\n",
       "      <td>Apartment</td>\n",
       "      <td>NaN</td>\n",
       "      <td>Entire home/apt</td>\n",
       "      <td>11249.0</td>\n",
       "      <td>1.0</td>\n",
       "      <td>1</td>\n",
       "      <td>0</td>\n",
       "      <td>145</td>\n",
       "      <td>NaN</td>\n",
       "    </tr>\n",
       "    <tr>\n",
       "      <th>1</th>\n",
       "      <td>33134899</td>\n",
       "      <td>NaN</td>\n",
       "      <td>Sunny, Private room in Bushwick</td>\n",
       "      <td>Brooklyn</td>\n",
       "      <td>Apartment</td>\n",
       "      <td>NaN</td>\n",
       "      <td>Private room</td>\n",
       "      <td>11206.0</td>\n",
       "      <td>1.0</td>\n",
       "      <td>1</td>\n",
       "      <td>1</td>\n",
       "      <td>37</td>\n",
       "      <td>NaN</td>\n",
       "    </tr>\n",
       "    <tr>\n",
       "      <th>2</th>\n",
       "      <td>39608626</td>\n",
       "      <td>NaN</td>\n",
       "      <td>Sunny Room in Harlem</td>\n",
       "      <td>Manhattan</td>\n",
       "      <td>Apartment</td>\n",
       "      <td>NaN</td>\n",
       "      <td>Private room</td>\n",
       "      <td>10032.0</td>\n",
       "      <td>1.0</td>\n",
       "      <td>1</td>\n",
       "      <td>1</td>\n",
       "      <td>28</td>\n",
       "      <td>NaN</td>\n",
       "    </tr>\n",
       "    <tr>\n",
       "      <th>3</th>\n",
       "      <td>500</td>\n",
       "      <td>6/26/2008</td>\n",
       "      <td>Gorgeous 1 BR with Private Balcony</td>\n",
       "      <td>Manhattan</td>\n",
       "      <td>Apartment</td>\n",
       "      <td>NaN</td>\n",
       "      <td>Entire home/apt</td>\n",
       "      <td>10024.0</td>\n",
       "      <td>3.0</td>\n",
       "      <td>1</td>\n",
       "      <td>0</td>\n",
       "      <td>199</td>\n",
       "      <td>NaN</td>\n",
       "    </tr>\n",
       "    <tr>\n",
       "      <th>4</th>\n",
       "      <td>500</td>\n",
       "      <td>6/26/2008</td>\n",
       "      <td>Trendy Times Square Loft</td>\n",
       "      <td>Manhattan</td>\n",
       "      <td>Apartment</td>\n",
       "      <td>95.0</td>\n",
       "      <td>Private room</td>\n",
       "      <td>10036.0</td>\n",
       "      <td>3.0</td>\n",
       "      <td>1</td>\n",
       "      <td>39</td>\n",
       "      <td>549</td>\n",
       "      <td>96.0</td>\n",
       "    </tr>\n",
       "  </tbody>\n",
       "</table>\n",
       "</div>"
      ],
      "text/plain": [
       "    Host Id Host Since                                Name Neighbourhood   \\\n",
       "0   5162530        NaN     1 Bedroom in Prime Williamsburg       Brooklyn   \n",
       "1  33134899        NaN     Sunny, Private room in Bushwick       Brooklyn   \n",
       "2  39608626        NaN                Sunny Room in Harlem      Manhattan   \n",
       "3       500  6/26/2008  Gorgeous 1 BR with Private Balcony      Manhattan   \n",
       "4       500  6/26/2008            Trendy Times Square Loft      Manhattan   \n",
       "\n",
       "  Property Type  Review Scores Rating (bin)        Room Type  Zipcode  Beds  \\\n",
       "0     Apartment                         NaN  Entire home/apt  11249.0   1.0   \n",
       "1     Apartment                         NaN     Private room  11206.0   1.0   \n",
       "2     Apartment                         NaN     Private room  10032.0   1.0   \n",
       "3     Apartment                         NaN  Entire home/apt  10024.0   3.0   \n",
       "4     Apartment                        95.0     Private room  10036.0   3.0   \n",
       "\n",
       "   Number of Records  Number Of Reviews Price  Review Scores Rating  \n",
       "0                  1                  0   145                   NaN  \n",
       "1                  1                  1    37                   NaN  \n",
       "2                  1                  1    28                   NaN  \n",
       "3                  1                  0   199                   NaN  \n",
       "4                  1                 39   549                  96.0  "
      ]
     },
     "execution_count": 3,
     "metadata": {},
     "output_type": "execute_result"
    }
   ],
   "source": [
    "import pandas as pd\n",
    "\n",
    "df = pd.read_csv('airbnb.csv')\n",
    "\n",
    "df.head()\n"
   ]
  },
  {
   "cell_type": "markdown",
   "id": "28ad1274-d65f-4b9f-990f-88a8748247fb",
   "metadata": {},
   "source": [
    "Data Description"
   ]
  },
  {
   "cell_type": "code",
   "execution_count": 7,
   "id": "d53e381d-f20d-4348-8e54-931eb092eec0",
   "metadata": {},
   "outputs": [
    {
     "name": "stdout",
     "output_type": "stream",
     "text": [
      "<class 'pandas.core.frame.DataFrame'>\n",
      "RangeIndex: 30478 entries, 0 to 30477\n",
      "Data columns (total 13 columns):\n",
      " #   Column                      Non-Null Count  Dtype  \n",
      "---  ------                      --------------  -----  \n",
      " 0   Host Id                     30478 non-null  int64  \n",
      " 1   Host Since                  30475 non-null  object \n",
      " 2   Name                        30478 non-null  object \n",
      " 3   Neighbourhood               30478 non-null  object \n",
      " 4   Property Type               30475 non-null  object \n",
      " 5   Review Scores Rating (bin)  22155 non-null  float64\n",
      " 6   Room Type                   30478 non-null  object \n",
      " 7   Zipcode                     30344 non-null  float64\n",
      " 8   Beds                        30393 non-null  float64\n",
      " 9   Number of Records           30478 non-null  int64  \n",
      " 10  Number Of Reviews           30478 non-null  int64  \n",
      " 11  Price                       30478 non-null  object \n",
      " 12  Review Scores Rating        22155 non-null  float64\n",
      "dtypes: float64(4), int64(3), object(6)\n",
      "memory usage: 3.0+ MB\n"
     ]
    },
    {
     "data": {
      "text/html": [
       "<div>\n",
       "<style scoped>\n",
       "    .dataframe tbody tr th:only-of-type {\n",
       "        vertical-align: middle;\n",
       "    }\n",
       "\n",
       "    .dataframe tbody tr th {\n",
       "        vertical-align: top;\n",
       "    }\n",
       "\n",
       "    .dataframe thead th {\n",
       "        text-align: right;\n",
       "    }\n",
       "</style>\n",
       "<table border=\"1\" class=\"dataframe\">\n",
       "  <thead>\n",
       "    <tr style=\"text-align: right;\">\n",
       "      <th></th>\n",
       "      <th>Host Id</th>\n",
       "      <th>Review Scores Rating (bin)</th>\n",
       "      <th>Zipcode</th>\n",
       "      <th>Beds</th>\n",
       "      <th>Number of Records</th>\n",
       "      <th>Number Of Reviews</th>\n",
       "      <th>Review Scores Rating</th>\n",
       "    </tr>\n",
       "  </thead>\n",
       "  <tbody>\n",
       "    <tr>\n",
       "      <th>count</th>\n",
       "      <td>3.047800e+04</td>\n",
       "      <td>22155.000000</td>\n",
       "      <td>30344.000000</td>\n",
       "      <td>30393.000000</td>\n",
       "      <td>30478.0</td>\n",
       "      <td>30478.000000</td>\n",
       "      <td>22155.000000</td>\n",
       "    </tr>\n",
       "    <tr>\n",
       "      <th>mean</th>\n",
       "      <td>1.273171e+07</td>\n",
       "      <td>90.738659</td>\n",
       "      <td>10584.854831</td>\n",
       "      <td>1.530089</td>\n",
       "      <td>1.0</td>\n",
       "      <td>12.018735</td>\n",
       "      <td>91.993230</td>\n",
       "    </tr>\n",
       "    <tr>\n",
       "      <th>std</th>\n",
       "      <td>1.190270e+07</td>\n",
       "      <td>9.059519</td>\n",
       "      <td>921.299397</td>\n",
       "      <td>1.015359</td>\n",
       "      <td>0.0</td>\n",
       "      <td>21.980703</td>\n",
       "      <td>8.850373</td>\n",
       "    </tr>\n",
       "    <tr>\n",
       "      <th>min</th>\n",
       "      <td>5.000000e+02</td>\n",
       "      <td>20.000000</td>\n",
       "      <td>1003.000000</td>\n",
       "      <td>0.000000</td>\n",
       "      <td>1.0</td>\n",
       "      <td>0.000000</td>\n",
       "      <td>20.000000</td>\n",
       "    </tr>\n",
       "    <tr>\n",
       "      <th>25%</th>\n",
       "      <td>2.701298e+06</td>\n",
       "      <td>85.000000</td>\n",
       "      <td>10017.000000</td>\n",
       "      <td>1.000000</td>\n",
       "      <td>1.0</td>\n",
       "      <td>0.000000</td>\n",
       "      <td>89.000000</td>\n",
       "    </tr>\n",
       "    <tr>\n",
       "      <th>50%</th>\n",
       "      <td>8.551693e+06</td>\n",
       "      <td>90.000000</td>\n",
       "      <td>10065.000000</td>\n",
       "      <td>1.000000</td>\n",
       "      <td>1.0</td>\n",
       "      <td>3.000000</td>\n",
       "      <td>94.000000</td>\n",
       "    </tr>\n",
       "    <tr>\n",
       "      <th>75%</th>\n",
       "      <td>2.120617e+07</td>\n",
       "      <td>100.000000</td>\n",
       "      <td>11216.000000</td>\n",
       "      <td>2.000000</td>\n",
       "      <td>1.0</td>\n",
       "      <td>13.000000</td>\n",
       "      <td>100.000000</td>\n",
       "    </tr>\n",
       "    <tr>\n",
       "      <th>max</th>\n",
       "      <td>4.303307e+07</td>\n",
       "      <td>100.000000</td>\n",
       "      <td>99135.000000</td>\n",
       "      <td>16.000000</td>\n",
       "      <td>1.0</td>\n",
       "      <td>257.000000</td>\n",
       "      <td>100.000000</td>\n",
       "    </tr>\n",
       "  </tbody>\n",
       "</table>\n",
       "</div>"
      ],
      "text/plain": [
       "            Host Id  Review Scores Rating (bin)       Zipcode          Beds  \\\n",
       "count  3.047800e+04                22155.000000  30344.000000  30393.000000   \n",
       "mean   1.273171e+07                   90.738659  10584.854831      1.530089   \n",
       "std    1.190270e+07                    9.059519    921.299397      1.015359   \n",
       "min    5.000000e+02                   20.000000   1003.000000      0.000000   \n",
       "25%    2.701298e+06                   85.000000  10017.000000      1.000000   \n",
       "50%    8.551693e+06                   90.000000  10065.000000      1.000000   \n",
       "75%    2.120617e+07                  100.000000  11216.000000      2.000000   \n",
       "max    4.303307e+07                  100.000000  99135.000000     16.000000   \n",
       "\n",
       "       Number of Records  Number Of Reviews  Review Scores Rating  \n",
       "count            30478.0       30478.000000          22155.000000  \n",
       "mean                 1.0          12.018735             91.993230  \n",
       "std                  0.0          21.980703              8.850373  \n",
       "min                  1.0           0.000000             20.000000  \n",
       "25%                  1.0           0.000000             89.000000  \n",
       "50%                  1.0           3.000000             94.000000  \n",
       "75%                  1.0          13.000000            100.000000  \n",
       "max                  1.0         257.000000            100.000000  "
      ]
     },
     "execution_count": 7,
     "metadata": {},
     "output_type": "execute_result"
    }
   ],
   "source": [
    "# Get general info about columns, data types, and missing values\n",
    "df.info()\n",
    "\n",
    "# Summary statistics for numerical columns\n",
    "df.describe()\n"
   ]
  },
  {
   "cell_type": "code",
   "execution_count": null,
   "id": "de149fff-f8ff-4dc7-a39b-d1ca253f195d",
   "metadata": {},
   "outputs": [],
   "source": [
    "Data Cleaning"
   ]
  },
  {
   "cell_type": "code",
   "execution_count": 9,
   "id": "aeccf5d3-34fd-40c5-925d-f789ee89c312",
   "metadata": {},
   "outputs": [
    {
     "name": "stdout",
     "output_type": "stream",
     "text": [
      "Missing values per column:\n",
      " Host Id                          0\n",
      "Host Since                       3\n",
      "Name                             0\n",
      "Neighbourhood                    0\n",
      "Property Type                    3\n",
      "Review Scores Rating (bin)    8323\n",
      "Room Type                        0\n",
      "Zipcode                        134\n",
      "Beds                            85\n",
      "Number of Records                0\n",
      "Number Of Reviews                0\n",
      "Price                            0\n",
      "Review Scores Rating          8323\n",
      "dtype: int64\n"
     ]
    }
   ],
   "source": [
    "# Check how many missing values per column\n",
    "missing_counts = df.isnull().sum()\n",
    "print(\"Missing values per column:\\n\", missing_counts)"
   ]
  },
  {
   "cell_type": "markdown",
   "id": "67e3ad37-e5fe-4976-aa83-d5639d17368c",
   "metadata": {},
   "source": [
    "Treating Missing values"
   ]
  },
  {
   "cell_type": "code",
   "execution_count": 11,
   "id": "f2319b3f-7d81-4259-8a5a-9337ff5f50ca",
   "metadata": {},
   "outputs": [
    {
     "name": "stdout",
     "output_type": "stream",
     "text": [
      "Missing values after cleaning:\n",
      "Host Id                       0\n",
      "Host Since                    0\n",
      "Name                          0\n",
      "Neighbourhood                 0\n",
      "Property Type                 0\n",
      "Review Scores Rating (bin)    0\n",
      "Room Type                     0\n",
      "Zipcode                       0\n",
      "Beds                          0\n",
      "Number of Records             0\n",
      "Number Of Reviews             0\n",
      "Price                         0\n",
      "Review Scores Rating          0\n",
      "dtype: int64\n"
     ]
    },
    {
     "name": "stderr",
     "output_type": "stream",
     "text": [
      "<>:2: SyntaxWarning: invalid escape sequence '\\$'\n",
      "<>:2: SyntaxWarning: invalid escape sequence '\\$'\n",
      "C:\\Users\\rithi\\AppData\\Local\\Temp\\ipykernel_7816\\3666691424.py:2: SyntaxWarning: invalid escape sequence '\\$'\n",
      "  df['Price'] = df['Price'].str.replace('[\\$,]', '', regex=True).astype(float)\n"
     ]
    }
   ],
   "source": [
    "# 1. Clean and convert 'Price' from string to float\n",
    "df['Price'] = df['Price'].str.replace('[\\$,]', '', regex=True).astype(float)\n",
    "\n",
    "# 2. For 'Host Since' and 'Property Type', with very few missing values, we can drop those rows\n",
    "df = df.dropna(subset=['Host Since', 'Property Type'])\n",
    "\n",
    "# 3. For 'Beds', fill missing values with median beds count\n",
    "df['Beds'] = df['Beds'].fillna(df['Beds'].median())\n",
    "\n",
    "# 4. For 'Zipcode', fill missing values with mode (most frequent zipcode)\n",
    "df['Zipcode'] = df['Zipcode'].fillna(df['Zipcode'].mode()[0])\n",
    "\n",
    "# 5. For 'Review Scores Rating' and 'Review Scores Rating (bin)', since ~27% are missing, let's fill with median\n",
    "df['Review Scores Rating'] = df['Review Scores Rating'].fillna(df['Review Scores Rating'].median())\n",
    "df['Review Scores Rating (bin)'] = df['Review Scores Rating (bin)'].fillna(df['Review Scores Rating (bin)'].median())\n",
    "\n",
    "# Confirm changes\n",
    "print(\"Missing values after cleaning:\")\n",
    "print(df.isnull().sum())\n"
   ]
  },
  {
   "cell_type": "markdown",
   "id": "0b2c059b-1dcf-4dcc-96c7-e508d1e8adee",
   "metadata": {},
   "source": [
    "Fixing data types and feature engineering"
   ]
  },
  {
   "cell_type": "code",
   "execution_count": 13,
   "id": "248d95aa-b6f1-4923-90d6-2cc440f80e75",
   "metadata": {},
   "outputs": [
    {
     "data": {
      "text/html": [
       "<div>\n",
       "<style scoped>\n",
       "    .dataframe tbody tr th:only-of-type {\n",
       "        vertical-align: middle;\n",
       "    }\n",
       "\n",
       "    .dataframe tbody tr th {\n",
       "        vertical-align: top;\n",
       "    }\n",
       "\n",
       "    .dataframe thead th {\n",
       "        text-align: right;\n",
       "    }\n",
       "</style>\n",
       "<table border=\"1\" class=\"dataframe\">\n",
       "  <thead>\n",
       "    <tr style=\"text-align: right;\">\n",
       "      <th></th>\n",
       "      <th>Host Since</th>\n",
       "      <th>Hosting Duration (Years)</th>\n",
       "    </tr>\n",
       "  </thead>\n",
       "  <tbody>\n",
       "    <tr>\n",
       "      <th>3</th>\n",
       "      <td>2008-06-26</td>\n",
       "      <td>17.093151</td>\n",
       "    </tr>\n",
       "    <tr>\n",
       "      <th>4</th>\n",
       "      <td>2008-06-26</td>\n",
       "      <td>17.093151</td>\n",
       "    </tr>\n",
       "    <tr>\n",
       "      <th>5</th>\n",
       "      <td>2008-07-25</td>\n",
       "      <td>17.013699</td>\n",
       "    </tr>\n",
       "    <tr>\n",
       "      <th>6</th>\n",
       "      <td>2008-08-12</td>\n",
       "      <td>16.964384</td>\n",
       "    </tr>\n",
       "    <tr>\n",
       "      <th>7</th>\n",
       "      <td>2008-08-15</td>\n",
       "      <td>16.956164</td>\n",
       "    </tr>\n",
       "  </tbody>\n",
       "</table>\n",
       "</div>"
      ],
      "text/plain": [
       "  Host Since  Hosting Duration (Years)\n",
       "3 2008-06-26                 17.093151\n",
       "4 2008-06-26                 17.093151\n",
       "5 2008-07-25                 17.013699\n",
       "6 2008-08-12                 16.964384\n",
       "7 2008-08-15                 16.956164"
      ]
     },
     "execution_count": 13,
     "metadata": {},
     "output_type": "execute_result"
    }
   ],
   "source": [
    "# Convert 'Host Since' to datetime\n",
    "df['Host Since'] = pd.to_datetime(df['Host Since'])\n",
    "\n",
    "# Calculate hosting duration in years (from host since date to today)\n",
    "df['Hosting Duration (Years)'] = (pd.Timestamp('today') - df['Host Since']).dt.days / 365\n",
    "\n",
    "# Check the new column\n",
    "df[['Host Since', 'Hosting Duration (Years)']].head()\n"
   ]
  },
  {
   "cell_type": "markdown",
   "id": "f9bb1381-61b5-458f-9453-feaec66530e1",
   "metadata": {},
   "source": [
    "Removing duplicates "
   ]
  },
  {
   "cell_type": "code",
   "execution_count": 15,
   "id": "49077224-22ec-4912-988f-945ccf919e19",
   "metadata": {},
   "outputs": [
    {
     "name": "stdout",
     "output_type": "stream",
     "text": [
      "Number of duplicate rows: 17\n"
     ]
    }
   ],
   "source": [
    "# Check for duplicates\n",
    "duplicates_count = df.duplicated().sum()\n",
    "print(f\"Number of duplicate rows: {duplicates_count}\")\n",
    "\n",
    "# Remove duplicates if any\n",
    "df = df.drop_duplicates()\n"
   ]
  },
  {
   "cell_type": "markdown",
   "id": "d615919f-cba8-4d16-8f2c-14e89bd3a8ea",
   "metadata": {},
   "source": [
    "Detect and Treat Outliers "
   ]
  },
  {
   "cell_type": "code",
   "execution_count": 17,
   "id": "956b5693-138e-44b1-bf50-5e182aada497",
   "metadata": {},
   "outputs": [
    {
     "data": {
      "image/png": "[encoded data removed]",
      "text/plain": [
       "<Figure size 1500x500 with 3 Axes>"
      ]
     },
     "metadata": {},
     "output_type": "display_data"
    }
   ],
   "source": [
    "import matplotlib.pyplot as plt\n",
    "import seaborn as sns\n",
    "\n",
    "# Boxplots to visualize outliers\n",
    "plt.figure(figsize=(15, 5))\n",
    "\n",
    "plt.subplot(1,3,1)\n",
    "sns.boxplot(x=df['Price'])\n",
    "plt.title('Price Outliers')\n",
    "\n",
    "plt.subplot(1,3,2)\n",
    "sns.boxplot(x=df['Beds'])\n",
    "plt.title('Beds Outliers')\n",
    "\n",
    "plt.subplot(1,3,3)\n",
    "sns.boxplot(x=df['Number Of Reviews'])\n",
    "plt.title('Number Of Reviews Outliers')\n",
    "\n",
    "plt.show()\n"
   ]
  },
  {
   "cell_type": "code",
   "execution_count": null,
   "id": "5072816f-c097-424b-8725-c4c0f112551c",
   "metadata": {},
   "outputs": [],
   "source": []
  }
 ],
 "metadata": {
  "kernelspec": {
   "display_name": "Python 3 (ipykernel)",
   "language": "python",
   "name": "python3"
  },
  "language_info": {
   "codemirror_mode": {
    "name": "ipython",
    "version": 3
   },
   "file_extension": ".py",
   "mimetype": "text/x-python",
   "name": "python",
   "nbconvert_exporter": "python",
   "pygments_lexer": "ipython3",
   "version": "3.12.4"
  }
 },
 "nbformat": 4,
 "nbformat_minor": 5
}
